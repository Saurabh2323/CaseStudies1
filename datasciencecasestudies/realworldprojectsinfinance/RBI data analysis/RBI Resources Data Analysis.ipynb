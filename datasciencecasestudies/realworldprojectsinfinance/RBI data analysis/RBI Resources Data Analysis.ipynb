{
 "cells": [
  {
   "cell_type": "markdown",
   "metadata": {},
   "source": [
    "# AIM -\n",
    "The Aim of this project is to make valuable predictions on **year over year growth** which is very essential in investment banking considering India, as investors usually want to see your year-over-year numbers before supplying you with business capital as well as YOY is a great statistic to use when you want to control the effects of volatility when comparing companies or economies."
   ]
  },
  {
   "cell_type": "markdown",
   "metadata": {},
   "source": [
    "# CONTENT -\n",
    "In order to make predictions on year over year growth we have gathered data from Reserve bank of India. Followings parameters have been taken into account to make predictions on year over year growth including Fortnight Ended , Non-food Bank Credit , \tInvestments in Commercial Paper ,Investments in shares,\tInvestments in Bonds/Debentures,\tTotal Non-SLR Investments and\tAdjusted Non-food Bank Credit."
   ]
  },
  {
   "cell_type": "markdown",
   "metadata": {},
   "source": [
    "# Reserve Bank of India (RBI)\n",
    "\n",
    "<div>\n",
    "<img src=\"https://upload.wikimedia.org/wikipedia/commons/thumb/1/1b/Seal_of_the_Reserve_Bank_of_India.svg/150px-Seal_of_the_Reserve_Bank_of_India.svg.png\" width=\"250\"/>\n",
    "</div>\n",
    "\n",
    "\n",
    "The Reserve Bank of India (RBI) is India's central bank, which controls the issue and supply of the Indian rupee. RBI is the regulator of entire Banking in India. RBI plays an important part in the Development Strategy of the Government of India.\n",
    "RBI regulates commercial banks and non-banking finance companies working in India. It serves as the leader of the banking system and the money market. It regulates money supply and credit in the country. The RBI carries out India's monetary policy and exercises supervision and control over banks and non-banking finance companies in India. RBI was set up in 1935 under the Reserve Bank of India Act,1934.\n",
    "Until the Monetary Policy Committee was established in 2016, it also controlled monetary policy in India.It commenced its operations on 1 April 1935 in accordance with the Reserve Bank of India Act, 1934.The original share capital was divided into shares of 100 each fully paid . Following India's independence on 15 August 1947, the RBI was nationalised on 1 January 1949.\n",
    "It is a member bank of the Asian Clearing Union. The general superintendence and direction of the RBI is entrusted with the 21-member central board of directors: the governor; four deputy governors; two finance ministry representatives (usually the Economic Affairs Secretary and the Financial Services Secretary); ten government-nominated directors to represent important elements of India's economy; and four directors to represent local boards headquartered at Mumbai, Kolkata, Chennai and the capital New Delhi. Each of these local boards consists of five members who represent regional interests, the interests of co-operative and indigenous banks.\n",
    "The central bank is an independent apex monetary authority which regulates banks and provides important financial services like storing of foreign exchange reserves, control of inflation, monetary policy report till August 2016. A central bank is known by different names in different countries. The functions of a central bank may vary from country to country and are autonomous or body and perform or through another agency vital monetary functions in the country. A central bank is a vital financial apex institution of an economy and the key objects of central banks may differ from country to country still they perform activities and functions with the goal of maintaining economic stability and growth| of an economy.\n",
    "The bank is also active in promoting financial inclusion policy and is a leading member of the Alliance for Financial Inclusion (AFI). The bank is often referred to by the name 'Mint Street'.RBI is also known as banker's bank.\n",
    "\n",
    "\n",
    "# Preamble :\n",
    "The preamble of the Reserve Bank of India describes the basic functions of the reserve bank as:\n",
    "\n",
    "**\"to regulate the issue of Bank notes and keeping of reserves with a view to securing monetary stability in India and generally to operate the currency and credit system of the country to its advantage; to have a modern monetary policy framework to meet the challenge of an increasingly complex economy, to maintain price stability while keeping in mind the objective of growth.\"**\n",
    "\n",
    "\n",
    "\n",
    "# Organisation Structure :\n",
    "\n",
    "\n",
    "\n",
    "<div>\n",
    "<img src=\"https://assets1.cleartax-cdn.com/s/img/2018/05/23175525/RBI.jpg\" width=\"250\"/>\n",
    "</div>\n",
    "\n",
    "\n",
    "# Objectives :\n",
    "The primary objectives of RBI are to supervise and undertake initiatives for the financial sector consisting of commercial banks, financial institutions and non-banking financial companies (NBFCs).\n",
    "\n",
    "Some key initiatives are:\n",
    "\n",
    "Restructuring bank inspections\n",
    "Fortifying the role of statutory auditors in the banking system\n",
    "\n",
    "# Legal Framework :\n",
    "The Reserve Bank of India comes under the purview of the following Acts:\n",
    "Reserve Bank of India Act 1934 ,\n",
    "Public Debt Act 1944 ,\n",
    "Government Securities Regulations 2007,\n",
    "Banking Regulation Act 1949 , \n",
    "Foreign Exchange Management Act 1999,\n",
    "Securitisation and Reconstruction of Financial Assets and Enforcement of Security Interest Act 2002,\n",
    "Credit Information Companies(Regulation) Act 2005 and\n",
    "Payment and Settlement Systems Act 2007.\n",
    "\n",
    "# Functions of RBI :\n",
    "1. Issue of Notes —The Reserve Bank has the monopoly for printing the currency notes in the country. It has the sole right to issue currency notes of various denominations except one rupee note (which is issued by the Ministry of Finance). The Reserve Bank has adopted the Minimum Reserve System for issuing/printing the currency notes. Since 1957, it maintains gold and foreign exchange reserves of Rs. 200 Cr. of which at least Rs. 115 cr. should be in gold and remaining in the foreign currencies.\n",
    "\n",
    "2. Banker to the Government–The second important function of the Reserve Bank is to act as the Banker, Agent and Adviser to the Government of India and states. It performs all the banking functions of the State and Central Government and it also tenders useful advice to the government on matters related to economic and monetary policy. It also manages the public debt of the government.\n",
    "\n",
    "3. Banker’s Bank:- The Reserve Bank performs the same functions for the other commercial banks as the other banks ordinarily perform for their customers. RBI lends money to all the commercial banks of the country.  \n",
    "\n",
    "# RBI Policies : \n",
    "Repo Rate Repo or repurchase rate is the benchmark interest rate at which the RBI lends money to all other banks for a short-term. When the repo rate increases, borrowing from RBI becomes more expensive and hence customers or the public bear the outcome of high-interest rates. Reverse Repo Rate (RRR) Reverse Repo rate is the short-term borrowing rate at which RBI borrows money from other banks. The Reserve Bank of India uses this method to reduce inflation when there is excess money in the banking system. Cash Reserve Ratio (CRR) is the particular share of any bank’s total deposit that is mandatory and to be maintained with the Reserve Bank of India in the form of liquid cash. Statutory liquidity ratio (SLR) Leaving aside the cash reserve ratio, banks are required to maintain liquid assets in the form of gold and approved securities. A higher SLR disables the banks to grant more loans.\n",
    "\n",
    "# RBI Annual publications : \n",
    "Annual Report – The annual report is a statutory report of the Reserve Bank of India that is released every year. This report consists of valuation and progress of the Indian economy. Overview of the economy, the working of the Reserve Bank during that year and the RBI’s projected vision and agenda for the following year along with the annual accounts of the Reserve Bank\n",
    "\n",
    "Report on Trend and Progress of Banking in India – This document is an assessment of the policies and progress of the financial sector for the preceding year.\n",
    "\n",
    "Lectures – The Reserve Bank of India has constituted three annual lectures. Two of these lectures are conducted by past Governors of the Reserve Bank and one lecture is by a noted economist.\n",
    "\n",
    "Report on Currency and Finance – This report is documented and presented by the staff of Reserve Bank of India bank and focusses on a particular theme and presents a detailed economic analysis of the issues related to the theme. Handbook of Statistics on the Indian Economy – This report is an important initiative by the Reserve Bank to improve data distribution. It is a resourceful storehouse of major statistical information.\n",
    "State Finances: A Study of Budgets – The report is an essential source of segregated state-wise financial data and provides an analytical data-driven conceptualisation on the fiscal position of state governments across India. These data inputs are used to analyse specific issues of relevance.\n",
    "\n",
    "Statistical Tables Relating to Banks in India – This annual publication contains holistic timeline data with regards to the Scheduled Commercial Banks (SCBs) of India. The report also covers the information of balance sheets and performance indicators for each SCB in India. The journal also includes segregated data sources on some essential factors relating to bank-wise, bank group-wise and state-wise level of information.\n",
    "\n",
    "Basic Statistical Returns – This is another data-focused yearly journal which represents complex information on the number of offices, employees, deposits and credit of Scheduled Commercial Banks in minute levels of detail such as, region-wise, state-wise and district-wise information. This information also trickles down to the population and credit requirements in each bank.|\n",
    "\n",
    "\n",
    "# Basic Terminologies :\n",
    "\n",
    "<div>\n",
    "<img src=\"https://4.bp.blogspot.com/-MmdxmaM6c_s/UH1ZGaiFd6I/AAAAAAAAG-o/QQrRc400TeA/s1600/IBPS+Clerks+Banking+Awareness.jpg\" width=\"400\"/>\n",
    "</div>\n",
    "\n",
    "# 1 - Investment -\n",
    "An investment is an asset or item acquired with the goal of generating income or appreciation. In an economic sense, an investment is the purchase of goods that are not consumed today but are used in the future to create wealth. In finance, an investment is a monetary asset purchased with the idea that the asset will provide income in the future or will later be sold at a higher price for a profit.Investing is putting money to work to start or expand a project - or to purchase an asset or interest - where those funds are then put to work, with the goal to income and increased value over time. The term \"investment\" can refer to any mechanism used for generating future income. In the financial sense, this includes the purchase of bonds, stocks or real estate property among several others. Additionally, a constructed building or other facility used to produce goods can be seen as an investment. The production of goods required to produce other goods may also be seen as investing.\n",
    "\n",
    "# 2 - Credit - \n",
    "Credit is a broad term that has many different meanings in the financial world. It is generally defined as a contractual agreement in which a borrower receives something of value now and agrees to repay the lender at a later date—generally with interest. Sometimes, it may even involve crediting a 401(k), for instance.Credit also refers to the creditworthiness or credit history of an individual or company. It also refers to an accounting entry that either decreases assets or increases liabilities and equity on a company's balance sheet.In the first and most common definition of the term, credit refers to an agreement to purchase a good or service with the express promise to pay for it later. This is known as buying on credit.The most common form of buying on credit is with credit cards. People tend to make purchases with credit cards because they may not have enough cash on hand to make the purchase. Accepting credit cards can help increase sales at retailers or between businesses.The amount of money a consumer or business has available to borrow—or their creditworthiness—is also called credit. For example, someone may say, \"He has great credit, so he's not worried about the bank rejecting his mortgage application.\"\n",
    "\n",
    "# 3 - Shares :\n",
    "Shares are units of ownership interest in a corporation or financial asset that provide for an equal distribution in any profits, if any are declared, in the form of dividends. The two main types of shares are common shares and preferred shares. Physical paper stock certificates have been replaced with electronic recording of stock shares, just as mutual fund shares are recorded electronically.When establishing a corporation, owners may choose to issue common stock or preferred stock.Most companies issue common stock. The stock may benefit shareholders through appreciation and dividends, making common stock riskier than preferred stock. Common stock also comes with voting rights, giving shareholders more control over the business. In addition, certain common stock comes with pre-emptive rights, ensuring that shareholders may buy new shares and retain their percentage of ownership when the corporation issues new stock.\n",
    "\n",
    "# 4- Bonds :\n",
    "A bond is a fixed income instrument that represents a loan made by an investor to a borrower (typically corporate or governmental). A bond could be thought of as an I.O.U. between the lender and borrower that includes the details of the loan and its payments. Bonds are used by companies, municipalities, states, and sovereign governments to finance projects and operations. Owners of bonds are debtholders, or creditors, of the issuer. Bond details include the end date when the principal of the loan is due to be paid to the bond owner and usually includes the terms for variable or fixed interest payments made by the borrower.\n",
    "\n",
    "\n",
    "# Description of Columns of dataset :\n",
    "\n",
    "**1-Non Food Bank Credit-** \n",
    "Banks provide credit or loans to various organizations and when this loans are given to Food Corporation (FCI)or for promotion of food safety etc they are known as Food credit and loans other that related to food are called Non food bank credit.Food Credit is related to bank finance given to FCI for procurement of food grains. Other than this all are non-food bank credit.\n",
    "Banks non-food bank credit growth decelerated to 7.2 per cent in November 2019 from 13.8 per cent in November 2018, on a year-on-year (y-o-y) basis,according to the latest data from the Reserve Bank of India. Credit to agriculture & allied activities slowed down to 6.5 per cent in November 2019 from 7.7 per cent in November 2018. Credit growth to industry decelerated to 2.4 per cent in November 2019 from 4.0 per cent in November 2018. Within industry, credit growth to 'food processing', 'textiles', 'gems & jewellery', 'chemicals & chemicals products', 'infrastructure' and 'construction'\n",
    "\n",
    "\n",
    "**2-Investments in Commercial Paper-** \n",
    "Commercial paper (CP) is a short-term debt instrument issued by companies to raise funds for a time period of up to one year. Introduced in 1990, it is an unsecured money market instrument issued in the form of a promissory note.Any corporate with a high rating can diversify their sources of short-term borrowings using CP. Investors get an additional instrument to park money. This instrument is typically issued by large banks or corporations to cover short-term receivables and meet short-term financial obligations, such as funding for a new project.\n",
    "\n",
    "**Trading in Commercial Paper-**\n",
    "It is possible for small retail investors to purchase commercial paper, although there are several restrictions that make it more difficult. Most commercial paper is sold and resold to institutional investors, such as large financial institutions, hedge funds, and multinational corporations. A retail investor would need access to very large amounts of capital to buy and own commercial paper; otherwise, indirect investment is possible through mutual funds, exchange-traded funds (ETFs) or a money market account administered and held at a depository institution.Factors such as regulatory costs, the scale of investable capital, and physical access to the capital markets can make it very difficult for an individual or retail investors to buy and own commercial paper.For example, commercial paper is typically sold in round lots totaling $100,000. This threshold in itself makes buying commercial paper generally exclusive to institutional investors and wealthy individuals. Further, broker-dealers issuing commercial paper on behalf of a client have pre-existing relationships with institutional buyers that make the market efficient through large purchases of primary offerings. They would not be likely to look to individual investors as a source of capital to fund the transaction.\n",
    "\n",
    "\n",
    "**3-Investments in Shares-**\n",
    "Investing in shares means buying and keeping them for a while in order to make money.There are two ways of getting money from shares of a company.If the company grows and becomes more valuable, the share is worth more – so your investment is worth more too.Some shares pay you part of the company’s profits each year, called a dividend.If you buy shares in larger, long-established companies you’ll probably get dividends, but you might not get rapid growth.Shares that pay regular dividends are good for getting an income or the dividends can be reinvested to grow your capital.Dividend income is taxed at a different rate from savings interest.Smaller companies often don’t pay dividends. They might have more chance to grow rapidly, but can be more risky.\n",
    "\n",
    "**4-Investments in Bonds-**\n",
    "Investment Bonds are debt instruments in which the authorized issuer owes the bond holders a debt. Depending on the terms of the type of bonds, the authorized issuer is obliged to pay interest and/or repay the principal at a later date upon maturity. In simpler terms, a bond is a formal contract to repay borrowed money with an interest at fixed intervals. Investment bonds are a way to raise money. When you purchase any type of bond (government, convertible, callable, etc.), you are lending money to the issuer which may be a corporation, the government, a federal agency or any other entity. In return, the issuer promises to pay a specified rate of interest during the life of the bond. The issuer also repays the face value of the bond when upon maturity of the term.Arguably, investing in bonds is simpler than doing so in equities, because there is a defined maturity. That is, the issuer of the debt instrument commits to pay back the invested amount on a specified date. In equities, there is no maturity, so the issuer would not repay you. Therefore, you have to sell it in the secondary market when you need to. The selling price of your equity shares depends on someone else, i.e., the purchaser at that point of time, over which you have no control.\n",
    "\n",
    "\n",
    "**5-Non SLR-Investments-**\n",
    "Besides giving loans to businesses and individuals, RBI has also allowed banks to invest in various capital market instruments such as stocks and bonds issued by public and private sector companies and commercial papers. In addition, banks are also allowed to invest in various mutual fund schemes. Unlike SLR investments, there is no compulsion on banks to invest in these instruments. Investments are entirely guided by commercial considerations and many such investments are in accordance with the prescribed guidelines.RBI treats both loans extended by commercial banks and the non-SLR investments as a resource flow to the commercial sector. Hence, it includes both while making credit projections it is comfortable with to achieve the targeted economic growth at the time of the monetary policy formulation during the beginning of the fiscal year.\n",
    "\n",
    "**6-Adjusted Non-Food Bank Credit-**\n",
    "Adjusted non-food bank credit includes non-food bank credit and total non-statutory liquidity ratio (SLR) investments of banks in commercial papers, shares and bonds/debentures.\n",
    "\n",
    "**7-Y-o-Y Growth in (7) (%)-**\n",
    "Year-Over-Year (YOY) is a frequently used financial comparison for comparing two or more measurable events on an annualized basis.Looking at YOY performance allows for gauging if a company's financial performance is improving, static, or worsening. For example, in financial reports, you may read that a particular business reported its revenues increased for the third quarter, on a YOY basis, for the last three years.YOY comparisons are a popular and effective way to evaluate the financial performance of a company and the performance of investments. Any measurable event that repeats annually can be compared on a YOY basis. Common YOY comparisons include annual, quarterly, and monthly performance.The period is for a month or quarter basis. The year-over-year growth rate calculates the percentage change during the past twelve months. Year-over-year (YOY) is an effective way of looking at growth for two reasons.If sales typically rise 35 percent this month, then your revenue is down year-over-year.\n",
    "\n",
    "\n",
    "\n",
    "\n",
    "\n"
   ]
  },
  {
   "cell_type": "markdown",
   "metadata": {},
   "source": [
    "# Algorithms Used :\n",
    "\n",
    "\n",
    "# AdaBoost -\n",
    "AdaBoost is best used to boost the performance of decision trees on binary classification problems.AdaBoost was originally called AdaBoost.M1 by the authors of the technique Freund and Schapire. More recently it may be referred to as discrete AdaBoost because it is used for classification rather than regression.AdaBoost can be used to boost the performance of any machine learning algorithm. It is best used with weak learners. These are models that achieve accuracy just above random chance on a classification problem.The most suited and therefore most common algorithm used with AdaBoost are decision trees with one level. Because these trees are so short and only contain one decision for classification, they are often called decision stumps.Each instance in the training dataset is weighted. The initial weight is set to:\n",
    "\n",
    "**weight(xi) = 1/n**\n",
    "\n",
    "Where xi is the i’th training instance and n is the number of training instances.\n",
    "AdaBoost, short for “Adaptive Boosting”, is the first practical boosting algorithm proposed by Freund and Schapire in 1996. It focuses on classification problems and aims to convert a set of weak classifiers into a strong one. The final equation for classification can be represented as\n",
    "<div>\n",
    "<img src=\"https://miro.medium.com/max/294/1*B2987FKIw3QL2ClYR_OeuQ.jpeg\" width=\"200\"/>\n",
    "</div>\n",
    "where f_m stands for the m_th weak classifier and theta_m is the corresponding weight. It is exactly the weighted combination of M weak classifiers. The whole procedure of the AdaBoost algorithm can be summarized as follow.\n",
    "\n",
    "AdaBoost algorithm\n",
    "Given a data set containing n points, where\n",
    "\n",
    "\n",
    "<div>\n",
    "<img src=\"https://miro.medium.com/max/235/1*2fp-O3KfXqrdYEGU_RjY0w.jpeg\" width=\"200\"/>\n",
    "</div>\n",
    "\n",
    "\n",
    "Here -1 denotes the negative class while 1 represents the positive one.\n",
    "Initialize the weight for each data point as:\n",
    "\n",
    "\n",
    "<div>\n",
    "<img src=\"https://miro.medium.com/max/273/1*IMHTVrXPKc2mVqDDK40k9w.jpeg\" width=\"200\"/>\n",
    "</div>\n",
    "\n",
    "\n",
    "**For iteration m=1,…,M:**\n",
    "(1) Fit weak classifiers to the data set and select the one with the lowest weighted classification error:\n",
    "<div>\n",
    "<img src=\"https://miro.medium.com/max/194/1*C8-yNia8Oh44X-t0UxUCUA.jpeg\" width=\"200\"/>\n",
    "</div>\n",
    "\n",
    "\n",
    "(2) Calculate the weight for the m_th weak classifier:\n",
    "<div>\n",
    "<img src=\"https://miro.medium.com/max/206/1*jFpUGuxpGZuzpG6FlDAASw.jpeg\" width=\"200\"/>\n",
    "</div>\n",
    "\n",
    "\n",
    "For any classifier with accuracy higher than 50%, the weight is positive. The more accurate the classifier, the larger the weight. While for the classifer with less than 50% accuracy, the weight is negative. It means that we combine its prediction by flipping the sign. For example, we can turn a classifier with 40% accuracy into 60% accuracy by flipping the sign of the prediction. Thus even the classifier performs worse than random guessing, it still contributes to the final prediction. We only don’t want any classifier with exact 50% accuracy, which doesn’t add any information and thus contributes nothing to the final prediction.\n",
    "(3) Update the weight for each data point as:\n",
    "<div>\n",
    "<img src=\"https://miro.medium.com/max/465/1*mqLcX8yookiPVZoAe6iwqA.jpeg\" width=\"400\"/>\n",
    "</div>\n",
    "where Z_m is a normalization factor that ensures the sum of all instance weights is equal to 1.\n",
    "If a misclassified case is from a positive weighted classifier, the “exp” term in the numerator would be always larger than 1 (y*f is always -1, theta_m is positive). Thus misclassified cases would be updated with larger weights after an iteration. The same logic applies to the negative weighted classifiers. The only difference is that the original correct classifications would become misclassifications after flipping the sign.\n",
    "After M iteration we can get the final prediction by summing up the weighted prediction of each classifier.\n",
    "\n",
    "\n",
    "# TPOT :\n",
    "TPOT is meant to be an assistant that gives you ideas on how to solve a particular machine learning problem by exploring pipeline configurations that you might have never considered, then leaves the fine-tuning to more constrained parameter tuning techniques such as grid search.So TPOT helps you find good algorithms. Note that it isn’t designed for automating deep learning — something like AutoKeras might be helpful there.\n",
    "<div>\n",
    "<img src=\"https://miro.medium.com/max/2000/0*iYQTbI4WVGUF1_F1.png\" width=\"600\"/>\n",
    "</div>\n",
    "TPOT is built on the scikit learn library and follows the scikit learn API closely. It can be used for regression and classification tasks and has special implementations for medical research.\n",
    "TPOT is open source, well documented, and under active development. It’s development was spearheaded by researchers at the University of Pennsylvania. TPOT appears to be one of the most popular autoML libraries, with nearly 4,500 GitHub stars as of August 2018.TPOT has what its developers call a genetic search algorithm to find the best parameters and model ensembles. It could also be thought of as a natural selection or evolutionary algorithm. TPOT tries a pipeline, evaluates its performance, and randomly changes parts of the pipeline in search of better performing algorithms."
   ]
  },
  {
   "cell_type": "code",
   "execution_count": null,
   "metadata": {},
   "outputs": [],
   "source": []
  },
  {
   "cell_type": "code",
   "execution_count": 48,
   "metadata": {},
   "outputs": [],
   "source": [
    "import pandas as pd\n",
    "import numpy as np\n",
    "import matplotlib.pyplot as plt\n",
    "import seaborn as sns"
   ]
  },
  {
   "cell_type": "code",
   "execution_count": 49,
   "metadata": {},
   "outputs": [],
   "source": [
    "#using pd.read_excel method from pandas to load the excel sheet into a dataframe named df \n",
    "df=pd.read_excel('Flow_of_Financial_Resources_from_Scheduled_Commercial_Banks_to_the_Commercial_Sector.xlsx',header=3)"
   ]
  },
  {
   "cell_type": "code",
   "execution_count": 50,
   "metadata": {},
   "outputs": [
    {
     "data": {
      "text/html": [
       "<div>\n",
       "<style scoped>\n",
       "    .dataframe tbody tr th:only-of-type {\n",
       "        vertical-align: middle;\n",
       "    }\n",
       "\n",
       "    .dataframe tbody tr th {\n",
       "        vertical-align: top;\n",
       "    }\n",
       "\n",
       "    .dataframe thead th {\n",
       "        text-align: right;\n",
       "    }\n",
       "</style>\n",
       "<table border=\"1\" class=\"dataframe\">\n",
       "  <thead>\n",
       "    <tr style=\"text-align: right;\">\n",
       "      <th></th>\n",
       "      <th>Unnamed: 0</th>\n",
       "      <th>Fortnight Ended</th>\n",
       "      <th>Non-food Bank Credit</th>\n",
       "      <th>Investments in Commercial Paper</th>\n",
       "      <th>Investments in shares</th>\n",
       "      <th>Investments in Bonds/Debentures</th>\n",
       "      <th>Total Non-SLR Investments</th>\n",
       "      <th>Adjusted Non-food Bank Credit</th>\n",
       "      <th>Y-o-Y Growth in (7) (%)</th>\n",
       "    </tr>\n",
       "  </thead>\n",
       "  <tbody>\n",
       "    <tr>\n",
       "      <th>0</th>\n",
       "      <td>NaN</td>\n",
       "      <td>1</td>\n",
       "      <td>2.000000e+00</td>\n",
       "      <td>3.0000</td>\n",
       "      <td>4.0000</td>\n",
       "      <td>5.0000</td>\n",
       "      <td>6 = (3 to 5)</td>\n",
       "      <td>7 = (2 + 6)</td>\n",
       "      <td>8.000000</td>\n",
       "    </tr>\n",
       "    <tr>\n",
       "      <th>1</th>\n",
       "      <td>NaN</td>\n",
       "      <td>2019-09-27 00:00:00</td>\n",
       "      <td>9.711225e+06</td>\n",
       "      <td>93828.7379</td>\n",
       "      <td>83826.5360</td>\n",
       "      <td>543412.0020</td>\n",
       "      <td>721067</td>\n",
       "      <td>1.04323e+07</td>\n",
       "      <td>8.474251</td>\n",
       "    </tr>\n",
       "    <tr>\n",
       "      <th>2</th>\n",
       "      <td>NaN</td>\n",
       "      <td>2019-09-13 00:00:00</td>\n",
       "      <td>9.646922e+06</td>\n",
       "      <td>94486.4320</td>\n",
       "      <td>83870.0320</td>\n",
       "      <td>538088.0210</td>\n",
       "      <td>716444</td>\n",
       "      <td>1.03634e+07</td>\n",
       "      <td>9.819415</td>\n",
       "    </tr>\n",
       "    <tr>\n",
       "      <th>3</th>\n",
       "      <td>NaN</td>\n",
       "      <td>2019-08-30 00:00:00</td>\n",
       "      <td>9.617761e+06</td>\n",
       "      <td>95878.8334</td>\n",
       "      <td>83847.1103</td>\n",
       "      <td>539545.3520</td>\n",
       "      <td>719271</td>\n",
       "      <td>1.0337e+07</td>\n",
       "      <td>9.709062</td>\n",
       "    </tr>\n",
       "    <tr>\n",
       "      <th>4</th>\n",
       "      <td>NaN</td>\n",
       "      <td>2019-08-16 00:00:00</td>\n",
       "      <td>9.619342e+06</td>\n",
       "      <td>98241.7826</td>\n",
       "      <td>83603.1477</td>\n",
       "      <td>537506.1614</td>\n",
       "      <td>719351</td>\n",
       "      <td>1.03387e+07</td>\n",
       "      <td>11.037356</td>\n",
       "    </tr>\n",
       "  </tbody>\n",
       "</table>\n",
       "</div>"
      ],
      "text/plain": [
       "   Unnamed: 0      Fortnight Ended  Non-food Bank Credit  \\\n",
       "0         NaN                    1          2.000000e+00   \n",
       "1         NaN  2019-09-27 00:00:00          9.711225e+06   \n",
       "2         NaN  2019-09-13 00:00:00          9.646922e+06   \n",
       "3         NaN  2019-08-30 00:00:00          9.617761e+06   \n",
       "4         NaN  2019-08-16 00:00:00          9.619342e+06   \n",
       "\n",
       "   Investments in Commercial Paper  Investments in shares  \\\n",
       "0                           3.0000                 4.0000   \n",
       "1                       93828.7379             83826.5360   \n",
       "2                       94486.4320             83870.0320   \n",
       "3                       95878.8334             83847.1103   \n",
       "4                       98241.7826             83603.1477   \n",
       "\n",
       "   Investments in Bonds/Debentures Total Non-SLR Investments  \\\n",
       "0                           5.0000              6 = (3 to 5)   \n",
       "1                      543412.0020                    721067   \n",
       "2                      538088.0210                    716444   \n",
       "3                      539545.3520                    719271   \n",
       "4                      537506.1614                    719351   \n",
       "\n",
       "  Adjusted Non-food Bank Credit   Y-o-Y Growth in (7) (%)  \n",
       "0                   7 = (2 + 6)                  8.000000  \n",
       "1                   1.04323e+07                  8.474251  \n",
       "2                   1.03634e+07                  9.819415  \n",
       "3                    1.0337e+07                  9.709062  \n",
       "4                   1.03387e+07                 11.037356  "
      ]
     },
     "execution_count": 50,
     "metadata": {},
     "output_type": "execute_result"
    }
   ],
   "source": [
    "df.head()"
   ]
  },
  {
   "cell_type": "code",
   "execution_count": 51,
   "metadata": {},
   "outputs": [],
   "source": [
    "df.drop('Unnamed: 0',axis=1,inplace=True) #dropping the unnamed column as it has only NaN values along vertical axis"
   ]
  },
  {
   "cell_type": "code",
   "execution_count": 52,
   "metadata": {},
   "outputs": [
    {
     "data": {
      "text/html": [
       "<div>\n",
       "<style scoped>\n",
       "    .dataframe tbody tr th:only-of-type {\n",
       "        vertical-align: middle;\n",
       "    }\n",
       "\n",
       "    .dataframe tbody tr th {\n",
       "        vertical-align: top;\n",
       "    }\n",
       "\n",
       "    .dataframe thead th {\n",
       "        text-align: right;\n",
       "    }\n",
       "</style>\n",
       "<table border=\"1\" class=\"dataframe\">\n",
       "  <thead>\n",
       "    <tr style=\"text-align: right;\">\n",
       "      <th></th>\n",
       "      <th>Fortnight Ended</th>\n",
       "      <th>Non-food Bank Credit</th>\n",
       "      <th>Investments in Commercial Paper</th>\n",
       "      <th>Investments in shares</th>\n",
       "      <th>Investments in Bonds/Debentures</th>\n",
       "      <th>Total Non-SLR Investments</th>\n",
       "      <th>Adjusted Non-food Bank Credit</th>\n",
       "      <th>Y-o-Y Growth in (7) (%)</th>\n",
       "    </tr>\n",
       "  </thead>\n",
       "  <tbody>\n",
       "    <tr>\n",
       "      <th>0</th>\n",
       "      <td>1</td>\n",
       "      <td>2.000000e+00</td>\n",
       "      <td>3.0000</td>\n",
       "      <td>4.0000</td>\n",
       "      <td>5.0000</td>\n",
       "      <td>6 = (3 to 5)</td>\n",
       "      <td>7 = (2 + 6)</td>\n",
       "      <td>8.000000</td>\n",
       "    </tr>\n",
       "    <tr>\n",
       "      <th>1</th>\n",
       "      <td>2019-09-27 00:00:00</td>\n",
       "      <td>9.711225e+06</td>\n",
       "      <td>93828.7379</td>\n",
       "      <td>83826.5360</td>\n",
       "      <td>543412.0020</td>\n",
       "      <td>721067</td>\n",
       "      <td>1.04323e+07</td>\n",
       "      <td>8.474251</td>\n",
       "    </tr>\n",
       "    <tr>\n",
       "      <th>2</th>\n",
       "      <td>2019-09-13 00:00:00</td>\n",
       "      <td>9.646922e+06</td>\n",
       "      <td>94486.4320</td>\n",
       "      <td>83870.0320</td>\n",
       "      <td>538088.0210</td>\n",
       "      <td>716444</td>\n",
       "      <td>1.03634e+07</td>\n",
       "      <td>9.819415</td>\n",
       "    </tr>\n",
       "    <tr>\n",
       "      <th>3</th>\n",
       "      <td>2019-08-30 00:00:00</td>\n",
       "      <td>9.617761e+06</td>\n",
       "      <td>95878.8334</td>\n",
       "      <td>83847.1103</td>\n",
       "      <td>539545.3520</td>\n",
       "      <td>719271</td>\n",
       "      <td>1.0337e+07</td>\n",
       "      <td>9.709062</td>\n",
       "    </tr>\n",
       "    <tr>\n",
       "      <th>4</th>\n",
       "      <td>2019-08-16 00:00:00</td>\n",
       "      <td>9.619342e+06</td>\n",
       "      <td>98241.7826</td>\n",
       "      <td>83603.1477</td>\n",
       "      <td>537506.1614</td>\n",
       "      <td>719351</td>\n",
       "      <td>1.03387e+07</td>\n",
       "      <td>11.037356</td>\n",
       "    </tr>\n",
       "  </tbody>\n",
       "</table>\n",
       "</div>"
      ],
      "text/plain": [
       "       Fortnight Ended  Non-food Bank Credit  Investments in Commercial Paper  \\\n",
       "0                    1          2.000000e+00                           3.0000   \n",
       "1  2019-09-27 00:00:00          9.711225e+06                       93828.7379   \n",
       "2  2019-09-13 00:00:00          9.646922e+06                       94486.4320   \n",
       "3  2019-08-30 00:00:00          9.617761e+06                       95878.8334   \n",
       "4  2019-08-16 00:00:00          9.619342e+06                       98241.7826   \n",
       "\n",
       "   Investments in shares  Investments in Bonds/Debentures  \\\n",
       "0                 4.0000                           5.0000   \n",
       "1             83826.5360                      543412.0020   \n",
       "2             83870.0320                      538088.0210   \n",
       "3             83847.1103                      539545.3520   \n",
       "4             83603.1477                      537506.1614   \n",
       "\n",
       "  Total Non-SLR Investments Adjusted Non-food Bank Credit  \\\n",
       "0              6 = (3 to 5)                   7 = (2 + 6)   \n",
       "1                    721067                   1.04323e+07   \n",
       "2                    716444                   1.03634e+07   \n",
       "3                    719271                    1.0337e+07   \n",
       "4                    719351                   1.03387e+07   \n",
       "\n",
       "    Y-o-Y Growth in (7) (%)  \n",
       "0                  8.000000  \n",
       "1                  8.474251  \n",
       "2                  9.819415  \n",
       "3                  9.709062  \n",
       "4                 11.037356  "
      ]
     },
     "execution_count": 52,
     "metadata": {},
     "output_type": "execute_result"
    }
   ],
   "source": [
    "df.head()"
   ]
  },
  {
   "cell_type": "code",
   "execution_count": 53,
   "metadata": {},
   "outputs": [],
   "source": [
    "df.drop(0,axis=0,inplace=True) #dropping the row with index 0 using drop method of pandas Dataframe "
   ]
  },
  {
   "cell_type": "code",
   "execution_count": 54,
   "metadata": {},
   "outputs": [
    {
     "data": {
      "text/html": [
       "<div>\n",
       "<style scoped>\n",
       "    .dataframe tbody tr th:only-of-type {\n",
       "        vertical-align: middle;\n",
       "    }\n",
       "\n",
       "    .dataframe tbody tr th {\n",
       "        vertical-align: top;\n",
       "    }\n",
       "\n",
       "    .dataframe thead th {\n",
       "        text-align: right;\n",
       "    }\n",
       "</style>\n",
       "<table border=\"1\" class=\"dataframe\">\n",
       "  <thead>\n",
       "    <tr style=\"text-align: right;\">\n",
       "      <th></th>\n",
       "      <th>Fortnight Ended</th>\n",
       "      <th>Non-food Bank Credit</th>\n",
       "      <th>Investments in Commercial Paper</th>\n",
       "      <th>Investments in shares</th>\n",
       "      <th>Investments in Bonds/Debentures</th>\n",
       "      <th>Total Non-SLR Investments</th>\n",
       "      <th>Adjusted Non-food Bank Credit</th>\n",
       "      <th>Y-o-Y Growth in (7) (%)</th>\n",
       "    </tr>\n",
       "  </thead>\n",
       "  <tbody>\n",
       "    <tr>\n",
       "      <th>1</th>\n",
       "      <td>2019-09-27 00:00:00</td>\n",
       "      <td>9.711225e+06</td>\n",
       "      <td>93828.7379</td>\n",
       "      <td>83826.5360</td>\n",
       "      <td>543412.0020</td>\n",
       "      <td>721067</td>\n",
       "      <td>1.04323e+07</td>\n",
       "      <td>8.474251</td>\n",
       "    </tr>\n",
       "    <tr>\n",
       "      <th>2</th>\n",
       "      <td>2019-09-13 00:00:00</td>\n",
       "      <td>9.646922e+06</td>\n",
       "      <td>94486.4320</td>\n",
       "      <td>83870.0320</td>\n",
       "      <td>538088.0210</td>\n",
       "      <td>716444</td>\n",
       "      <td>1.03634e+07</td>\n",
       "      <td>9.819415</td>\n",
       "    </tr>\n",
       "    <tr>\n",
       "      <th>3</th>\n",
       "      <td>2019-08-30 00:00:00</td>\n",
       "      <td>9.617761e+06</td>\n",
       "      <td>95878.8334</td>\n",
       "      <td>83847.1103</td>\n",
       "      <td>539545.3520</td>\n",
       "      <td>719271</td>\n",
       "      <td>1.0337e+07</td>\n",
       "      <td>9.709062</td>\n",
       "    </tr>\n",
       "    <tr>\n",
       "      <th>4</th>\n",
       "      <td>2019-08-16 00:00:00</td>\n",
       "      <td>9.619342e+06</td>\n",
       "      <td>98241.7826</td>\n",
       "      <td>83603.1477</td>\n",
       "      <td>537506.1614</td>\n",
       "      <td>719351</td>\n",
       "      <td>1.03387e+07</td>\n",
       "      <td>11.037356</td>\n",
       "    </tr>\n",
       "    <tr>\n",
       "      <th>5</th>\n",
       "      <td>2019-08-02 00:00:00</td>\n",
       "      <td>9.666255e+06</td>\n",
       "      <td>96892.3612</td>\n",
       "      <td>83606.2974</td>\n",
       "      <td>541910.6786</td>\n",
       "      <td>722409</td>\n",
       "      <td>1.03887e+07</td>\n",
       "      <td>11.408090</td>\n",
       "    </tr>\n",
       "  </tbody>\n",
       "</table>\n",
       "</div>"
      ],
      "text/plain": [
       "       Fortnight Ended  Non-food Bank Credit  Investments in Commercial Paper  \\\n",
       "1  2019-09-27 00:00:00          9.711225e+06                       93828.7379   \n",
       "2  2019-09-13 00:00:00          9.646922e+06                       94486.4320   \n",
       "3  2019-08-30 00:00:00          9.617761e+06                       95878.8334   \n",
       "4  2019-08-16 00:00:00          9.619342e+06                       98241.7826   \n",
       "5  2019-08-02 00:00:00          9.666255e+06                       96892.3612   \n",
       "\n",
       "   Investments in shares  Investments in Bonds/Debentures  \\\n",
       "1             83826.5360                      543412.0020   \n",
       "2             83870.0320                      538088.0210   \n",
       "3             83847.1103                      539545.3520   \n",
       "4             83603.1477                      537506.1614   \n",
       "5             83606.2974                      541910.6786   \n",
       "\n",
       "  Total Non-SLR Investments Adjusted Non-food Bank Credit  \\\n",
       "1                    721067                   1.04323e+07   \n",
       "2                    716444                   1.03634e+07   \n",
       "3                    719271                    1.0337e+07   \n",
       "4                    719351                   1.03387e+07   \n",
       "5                    722409                   1.03887e+07   \n",
       "\n",
       "    Y-o-Y Growth in (7) (%)  \n",
       "1                  8.474251  \n",
       "2                  9.819415  \n",
       "3                  9.709062  \n",
       "4                 11.037356  \n",
       "5                 11.408090  "
      ]
     },
     "execution_count": 54,
     "metadata": {},
     "output_type": "execute_result"
    }
   ],
   "source": [
    "df.head()  #displaying the head of dataframe(head cdisplays first 5 rows)"
   ]
  },
  {
   "cell_type": "code",
   "execution_count": 55,
   "metadata": {},
   "outputs": [
    {
     "data": {
      "text/plain": [
       "Fortnight Ended                    0\n",
       "Non-food Bank Credit               0\n",
       "Investments in Commercial Paper    0\n",
       "Investments in shares              0\n",
       "Investments in Bonds/Debentures    0\n",
       "Total Non-SLR Investments          0\n",
       "Adjusted Non-food Bank Credit      0\n",
       " Y-o-Y Growth in (7) (%)           0\n",
       "dtype: int64"
      ]
     },
     "execution_count": 55,
     "metadata": {},
     "output_type": "execute_result"
    }
   ],
   "source": [
    "df.isna().sum()  #finding the sum of nan vlaues along each column"
   ]
  },
  {
   "cell_type": "code",
   "execution_count": 56,
   "metadata": {},
   "outputs": [
    {
     "data": {
      "text/plain": [
       "(65, 8)"
      ]
     },
     "execution_count": 56,
     "metadata": {},
     "output_type": "execute_result"
    }
   ],
   "source": [
    "df.shape #df.shape outputs the shape of the dataframe"
   ]
  },
  {
   "cell_type": "code",
   "execution_count": 57,
   "metadata": {},
   "outputs": [
    {
     "data": {
      "text/plain": [
       "Int64Index([ 1,  2,  3,  4,  5,  6,  7,  8,  9, 10, 11, 12, 13, 14, 15, 16, 17,\n",
       "            18, 19, 20, 21, 22, 23, 24, 25, 26, 27, 28, 29, 30, 31, 32, 33, 34,\n",
       "            35, 36, 37, 38, 39, 40, 41, 42, 43, 44, 45, 46, 47, 48, 49, 50, 51,\n",
       "            52, 53, 54, 55, 56, 57, 58, 59, 60, 61, 62, 63, 64, 65],\n",
       "           dtype='int64')"
      ]
     },
     "execution_count": 57,
     "metadata": {},
     "output_type": "execute_result"
    }
   ],
   "source": [
    "df.index"
   ]
  },
  {
   "cell_type": "code",
   "execution_count": 58,
   "metadata": {},
   "outputs": [
    {
     "data": {
      "text/plain": [
       "1     2019-09-27 00:00:00\n",
       "2     2019-09-13 00:00:00\n",
       "3     2019-08-30 00:00:00\n",
       "4     2019-08-16 00:00:00\n",
       "5     2019-08-02 00:00:00\n",
       "             ...         \n",
       "61    2017-06-09 00:00:00\n",
       "62    2017-05-26 00:00:00\n",
       "63    2017-05-12 00:00:00\n",
       "64    2017-04-28 00:00:00\n",
       "65    2017-04-14 00:00:00\n",
       "Name: Fortnight Ended, Length: 65, dtype: object"
      ]
     },
     "execution_count": 58,
     "metadata": {},
     "output_type": "execute_result"
    }
   ],
   "source": [
    "df['Fortnight Ended']"
   ]
  },
  {
   "cell_type": "code",
   "execution_count": 59,
   "metadata": {},
   "outputs": [],
   "source": [
    "df.index=df['Fortnight Ended']  \n",
    "df.drop('Fortnight Ended',axis=1,inplace=True) "
   ]
  },
  {
   "cell_type": "code",
   "execution_count": 60,
   "metadata": {},
   "outputs": [
    {
     "data": {
      "text/html": [
       "<div>\n",
       "<style scoped>\n",
       "    .dataframe tbody tr th:only-of-type {\n",
       "        vertical-align: middle;\n",
       "    }\n",
       "\n",
       "    .dataframe tbody tr th {\n",
       "        vertical-align: top;\n",
       "    }\n",
       "\n",
       "    .dataframe thead th {\n",
       "        text-align: right;\n",
       "    }\n",
       "</style>\n",
       "<table border=\"1\" class=\"dataframe\">\n",
       "  <thead>\n",
       "    <tr style=\"text-align: right;\">\n",
       "      <th></th>\n",
       "      <th>Non-food Bank Credit</th>\n",
       "      <th>Investments in Commercial Paper</th>\n",
       "      <th>Investments in shares</th>\n",
       "      <th>Investments in Bonds/Debentures</th>\n",
       "      <th>Total Non-SLR Investments</th>\n",
       "      <th>Adjusted Non-food Bank Credit</th>\n",
       "      <th>Y-o-Y Growth in (7) (%)</th>\n",
       "    </tr>\n",
       "    <tr>\n",
       "      <th>Fortnight Ended</th>\n",
       "      <th></th>\n",
       "      <th></th>\n",
       "      <th></th>\n",
       "      <th></th>\n",
       "      <th></th>\n",
       "      <th></th>\n",
       "      <th></th>\n",
       "    </tr>\n",
       "  </thead>\n",
       "  <tbody>\n",
       "    <tr>\n",
       "      <th>2019-09-27</th>\n",
       "      <td>9.711225e+06</td>\n",
       "      <td>93828.7379</td>\n",
       "      <td>83826.5360</td>\n",
       "      <td>543412.0020</td>\n",
       "      <td>721067</td>\n",
       "      <td>1.04323e+07</td>\n",
       "      <td>8.474251</td>\n",
       "    </tr>\n",
       "    <tr>\n",
       "      <th>2019-09-13</th>\n",
       "      <td>9.646922e+06</td>\n",
       "      <td>94486.4320</td>\n",
       "      <td>83870.0320</td>\n",
       "      <td>538088.0210</td>\n",
       "      <td>716444</td>\n",
       "      <td>1.03634e+07</td>\n",
       "      <td>9.819415</td>\n",
       "    </tr>\n",
       "    <tr>\n",
       "      <th>2019-08-30</th>\n",
       "      <td>9.617761e+06</td>\n",
       "      <td>95878.8334</td>\n",
       "      <td>83847.1103</td>\n",
       "      <td>539545.3520</td>\n",
       "      <td>719271</td>\n",
       "      <td>1.0337e+07</td>\n",
       "      <td>9.709062</td>\n",
       "    </tr>\n",
       "    <tr>\n",
       "      <th>2019-08-16</th>\n",
       "      <td>9.619342e+06</td>\n",
       "      <td>98241.7826</td>\n",
       "      <td>83603.1477</td>\n",
       "      <td>537506.1614</td>\n",
       "      <td>719351</td>\n",
       "      <td>1.03387e+07</td>\n",
       "      <td>11.037356</td>\n",
       "    </tr>\n",
       "    <tr>\n",
       "      <th>2019-08-02</th>\n",
       "      <td>9.666255e+06</td>\n",
       "      <td>96892.3612</td>\n",
       "      <td>83606.2974</td>\n",
       "      <td>541910.6786</td>\n",
       "      <td>722409</td>\n",
       "      <td>1.03887e+07</td>\n",
       "      <td>11.408090</td>\n",
       "    </tr>\n",
       "  </tbody>\n",
       "</table>\n",
       "</div>"
      ],
      "text/plain": [
       "                 Non-food Bank Credit  Investments in Commercial Paper  \\\n",
       "Fortnight Ended                                                          \n",
       "2019-09-27               9.711225e+06                       93828.7379   \n",
       "2019-09-13               9.646922e+06                       94486.4320   \n",
       "2019-08-30               9.617761e+06                       95878.8334   \n",
       "2019-08-16               9.619342e+06                       98241.7826   \n",
       "2019-08-02               9.666255e+06                       96892.3612   \n",
       "\n",
       "                 Investments in shares  Investments in Bonds/Debentures  \\\n",
       "Fortnight Ended                                                           \n",
       "2019-09-27                  83826.5360                      543412.0020   \n",
       "2019-09-13                  83870.0320                      538088.0210   \n",
       "2019-08-30                  83847.1103                      539545.3520   \n",
       "2019-08-16                  83603.1477                      537506.1614   \n",
       "2019-08-02                  83606.2974                      541910.6786   \n",
       "\n",
       "                Total Non-SLR Investments Adjusted Non-food Bank Credit  \\\n",
       "Fortnight Ended                                                           \n",
       "2019-09-27                         721067                   1.04323e+07   \n",
       "2019-09-13                         716444                   1.03634e+07   \n",
       "2019-08-30                         719271                    1.0337e+07   \n",
       "2019-08-16                         719351                   1.03387e+07   \n",
       "2019-08-02                         722409                   1.03887e+07   \n",
       "\n",
       "                  Y-o-Y Growth in (7) (%)  \n",
       "Fortnight Ended                            \n",
       "2019-09-27                       8.474251  \n",
       "2019-09-13                       9.819415  \n",
       "2019-08-30                       9.709062  \n",
       "2019-08-16                      11.037356  \n",
       "2019-08-02                      11.408090  "
      ]
     },
     "execution_count": 60,
     "metadata": {},
     "output_type": "execute_result"
    }
   ],
   "source": [
    "df.head() "
   ]
  },
  {
   "cell_type": "code",
   "execution_count": 61,
   "metadata": {},
   "outputs": [
    {
     "data": {
      "text/plain": [
       "<matplotlib.legend.Legend at 0x7fa6c519b7b8>"
      ]
     },
     "execution_count": 61,
     "metadata": {},
     "output_type": "execute_result"
    },
    {
     "data": {
      "image/png": "[encoded data removed]",
      "text/plain": [
       "<Figure size 864x576 with 1 Axes>"
      ]
     },
     "metadata": {
      "needs_background": "light"
     },
     "output_type": "display_data"
    }
   ],
   "source": [
    "#making a line plot for column values (columns used ->[Investments in Commercial Paper,Investments in shares,Investments in Bonds/Debentures]\n",
    "\n",
    "df['Investments in Commercial Paper'].plot(label='Investments in Commercial Paper',figsize=(12,8),title=\"Investments\")\n",
    "df['Investments in shares'].plot(label='Investments in shares',figsize=(12,8),title=\"Investments\")\n",
    "df['Investments in Bonds/Debentures'].plot(label='Investments in Bonds/Debentures',figsize=(12,8),title=\"Investments\")\n",
    "plt.legend() \n"
   ]
  },
  {
   "cell_type": "code",
   "execution_count": 62,
   "metadata": {},
   "outputs": [],
   "source": [
    "#making a new column named \"Total Investments\" that is the sum of 3 different columns as shown below\n",
    "df['Total Investments']=df['Investments in Commercial Paper']+df['Investments in shares']+df['Investments in Bonds/Debentures']\n"
   ]
  },
  {
   "cell_type": "code",
   "execution_count": 63,
   "metadata": {
    "scrolled": true
   },
   "outputs": [
    {
     "data": {
      "text/plain": [
       "<matplotlib.axes._subplots.AxesSubplot at 0x7fa6c52457f0>"
      ]
     },
     "execution_count": 63,
     "metadata": {},
     "output_type": "execute_result"
    },
    {
     "data": {
      "image/png": "[encoded data removed]",
      "text/plain": [
       "<Figure size 864x576 with 1 Axes>"
      ]
     },
     "metadata": {
      "needs_background": "light"
     },
     "output_type": "display_data"
    }
   ],
   "source": [
    "df['Total Investments'].plot(figsize=(12,8),title=\"Total Investments\")\n"
   ]
  },
  {
   "cell_type": "code",
   "execution_count": 64,
   "metadata": {},
   "outputs": [
    {
     "data": {
      "text/plain": [
       "<matplotlib.axes._subplots.AxesSubplot at 0x7fa6c5422ac8>"
      ]
     },
     "execution_count": 64,
     "metadata": {},
     "output_type": "execute_result"
    },
    {
     "data": {
      "image/png": "[encoded data removed]",
      "text/plain": [
       "<Figure size 864x576 with 1 Axes>"
      ]
     },
     "metadata": {
      "needs_background": "light"
     },
     "output_type": "display_data"
    }
   ],
   "source": [
    "df['Total Investments'].plot(kind='bar',figsize=(12,8),title='Total Investment')\n"
   ]
  },
  {
   "cell_type": "code",
   "execution_count": 65,
   "metadata": {},
   "outputs": [
    {
     "data": {
      "text/plain": [
       "Index(['Non-food Bank Credit', 'Investments in Commercial Paper',\n",
       "       'Investments in shares', 'Investments in Bonds/Debentures',\n",
       "       'Total Non-SLR Investments', 'Adjusted Non-food Bank Credit',\n",
       "       ' Y-o-Y Growth in (7) (%)', 'Total Investments'],\n",
       "      dtype='object')"
      ]
     },
     "execution_count": 65,
     "metadata": {},
     "output_type": "execute_result"
    }
   ],
   "source": [
    "df.columns"
   ]
  },
  {
   "cell_type": "code",
   "execution_count": 66,
   "metadata": {},
   "outputs": [
    {
     "data": {
      "text/plain": [
       "<matplotlib.axes._subplots.AxesSubplot at 0x7fa6c5783f60>"
      ]
     },
     "execution_count": 66,
     "metadata": {},
     "output_type": "execute_result"
    },
    {
     "data": {
      "image/png": "[encoded data removed]",
      "text/plain": [
       "<Figure size 864x576 with 1 Axes>"
      ]
     },
     "metadata": {
      "needs_background": "light"
     },
     "output_type": "display_data"
    }
   ],
   "source": [
    "df[' Y-o-Y Growth in (7) (%)'].plot(figsize=(12,8),title=\"Growth\") \n"
   ]
  },
  {
   "cell_type": "code",
   "execution_count": 20,
   "metadata": {},
   "outputs": [],
   "source": [
    "y=df[' Y-o-Y Growth in (7) (%)']  \n",
    "x=df.drop(' Y-o-Y Growth in (7) (%)',axis=1) "
   ]
  },
  {
   "cell_type": "code",
   "execution_count": 21,
   "metadata": {},
   "outputs": [
    {
     "data": {
      "text/plain": [
       "<matplotlib.axes._subplots.AxesSubplot at 0x7fa6c3bd2278>"
      ]
     },
     "execution_count": 21,
     "metadata": {},
     "output_type": "execute_result"
    },
    {
     "data": {
      "image/png": "[encoded data removed]",
      "text/plain": [
       "<Figure size 1440x720 with 1 Axes>"
      ]
     },
     "metadata": {
      "needs_background": "light"
     },
     "output_type": "display_data"
    }
   ],
   "source": [
    "x.corrwith(y).plot.bar(figsize=(20,10),title=\"Correlation with response variable\",fontsize=15,rot=45,grid=True)\n"
   ]
  },
  {
   "cell_type": "code",
   "execution_count": 22,
   "metadata": {},
   "outputs": [
    {
     "data": {
      "text/plain": [
       "<matplotlib.axes._subplots.AxesSubplot at 0x7fa6c41dabe0>"
      ]
     },
     "execution_count": 22,
     "metadata": {},
     "output_type": "execute_result"
    },
    {
     "data": {
      "image/png": "[encoded data removed]",
      "text/plain": [
       "<Figure size 720x720 with 2 Axes>"
      ]
     },
     "metadata": {
      "needs_background": "light"
     },
     "output_type": "display_data"
    }
   ],
   "source": [
    "plt.figure(figsize=(10,10))\n",
    "sns.heatmap(df.corr(),annot=True) "
   ]
  },
  {
   "cell_type": "markdown",
   "metadata": {},
   "source": [
    "# model building"
   ]
  },
  {
   "cell_type": "code",
   "execution_count": 23,
   "metadata": {},
   "outputs": [
    {
     "data": {
      "text/html": [
       "<div>\n",
       "<style scoped>\n",
       "    .dataframe tbody tr th:only-of-type {\n",
       "        vertical-align: middle;\n",
       "    }\n",
       "\n",
       "    .dataframe tbody tr th {\n",
       "        vertical-align: top;\n",
       "    }\n",
       "\n",
       "    .dataframe thead th {\n",
       "        text-align: right;\n",
       "    }\n",
       "</style>\n",
       "<table border=\"1\" class=\"dataframe\">\n",
       "  <thead>\n",
       "    <tr style=\"text-align: right;\">\n",
       "      <th></th>\n",
       "      <th>Non-food Bank Credit</th>\n",
       "      <th>Investments in Commercial Paper</th>\n",
       "      <th>Investments in shares</th>\n",
       "      <th>Investments in Bonds/Debentures</th>\n",
       "      <th>Total Non-SLR Investments</th>\n",
       "      <th>Adjusted Non-food Bank Credit</th>\n",
       "      <th>Y-o-Y Growth in (7) (%)</th>\n",
       "      <th>Total Investments</th>\n",
       "    </tr>\n",
       "    <tr>\n",
       "      <th>Fortnight Ended</th>\n",
       "      <th></th>\n",
       "      <th></th>\n",
       "      <th></th>\n",
       "      <th></th>\n",
       "      <th></th>\n",
       "      <th></th>\n",
       "      <th></th>\n",
       "      <th></th>\n",
       "    </tr>\n",
       "  </thead>\n",
       "  <tbody>\n",
       "    <tr>\n",
       "      <th>2019-09-27</th>\n",
       "      <td>9.711225e+06</td>\n",
       "      <td>93828.7379</td>\n",
       "      <td>83826.5360</td>\n",
       "      <td>543412.0020</td>\n",
       "      <td>721067</td>\n",
       "      <td>1.04323e+07</td>\n",
       "      <td>8.474251</td>\n",
       "      <td>721067.2759</td>\n",
       "    </tr>\n",
       "    <tr>\n",
       "      <th>2019-09-13</th>\n",
       "      <td>9.646922e+06</td>\n",
       "      <td>94486.4320</td>\n",
       "      <td>83870.0320</td>\n",
       "      <td>538088.0210</td>\n",
       "      <td>716444</td>\n",
       "      <td>1.03634e+07</td>\n",
       "      <td>9.819415</td>\n",
       "      <td>716444.4850</td>\n",
       "    </tr>\n",
       "    <tr>\n",
       "      <th>2019-08-30</th>\n",
       "      <td>9.617761e+06</td>\n",
       "      <td>95878.8334</td>\n",
       "      <td>83847.1103</td>\n",
       "      <td>539545.3520</td>\n",
       "      <td>719271</td>\n",
       "      <td>1.0337e+07</td>\n",
       "      <td>9.709062</td>\n",
       "      <td>719271.2957</td>\n",
       "    </tr>\n",
       "    <tr>\n",
       "      <th>2019-08-16</th>\n",
       "      <td>9.619342e+06</td>\n",
       "      <td>98241.7826</td>\n",
       "      <td>83603.1477</td>\n",
       "      <td>537506.1614</td>\n",
       "      <td>719351</td>\n",
       "      <td>1.03387e+07</td>\n",
       "      <td>11.037356</td>\n",
       "      <td>719351.0917</td>\n",
       "    </tr>\n",
       "    <tr>\n",
       "      <th>2019-08-02</th>\n",
       "      <td>9.666255e+06</td>\n",
       "      <td>96892.3612</td>\n",
       "      <td>83606.2974</td>\n",
       "      <td>541910.6786</td>\n",
       "      <td>722409</td>\n",
       "      <td>1.03887e+07</td>\n",
       "      <td>11.408090</td>\n",
       "      <td>722409.3372</td>\n",
       "    </tr>\n",
       "  </tbody>\n",
       "</table>\n",
       "</div>"
      ],
      "text/plain": [
       "                 Non-food Bank Credit  Investments in Commercial Paper  \\\n",
       "Fortnight Ended                                                          \n",
       "2019-09-27               9.711225e+06                       93828.7379   \n",
       "2019-09-13               9.646922e+06                       94486.4320   \n",
       "2019-08-30               9.617761e+06                       95878.8334   \n",
       "2019-08-16               9.619342e+06                       98241.7826   \n",
       "2019-08-02               9.666255e+06                       96892.3612   \n",
       "\n",
       "                 Investments in shares  Investments in Bonds/Debentures  \\\n",
       "Fortnight Ended                                                           \n",
       "2019-09-27                  83826.5360                      543412.0020   \n",
       "2019-09-13                  83870.0320                      538088.0210   \n",
       "2019-08-30                  83847.1103                      539545.3520   \n",
       "2019-08-16                  83603.1477                      537506.1614   \n",
       "2019-08-02                  83606.2974                      541910.6786   \n",
       "\n",
       "                Total Non-SLR Investments Adjusted Non-food Bank Credit  \\\n",
       "Fortnight Ended                                                           \n",
       "2019-09-27                         721067                   1.04323e+07   \n",
       "2019-09-13                         716444                   1.03634e+07   \n",
       "2019-08-30                         719271                    1.0337e+07   \n",
       "2019-08-16                         719351                   1.03387e+07   \n",
       "2019-08-02                         722409                   1.03887e+07   \n",
       "\n",
       "                  Y-o-Y Growth in (7) (%)  Total Investments  \n",
       "Fortnight Ended                                               \n",
       "2019-09-27                       8.474251        721067.2759  \n",
       "2019-09-13                       9.819415        716444.4850  \n",
       "2019-08-30                       9.709062        719271.2957  \n",
       "2019-08-16                      11.037356        719351.0917  \n",
       "2019-08-02                      11.408090        722409.3372  "
      ]
     },
     "execution_count": 23,
     "metadata": {},
     "output_type": "execute_result"
    }
   ],
   "source": [
    "df.head()"
   ]
  },
  {
   "cell_type": "code",
   "execution_count": 37,
   "metadata": {},
   "outputs": [],
   "source": [
    "from sklearn.preprocessing import StandardScaler #StandardScaler function of sklearn is used to scale down values of dataframe between 0 and 1\n",
    "\n",
    "sc=StandardScaler() \n",
    "df=sc.fit_transform(df)"
   ]
  },
  {
   "cell_type": "code",
   "execution_count": 38,
   "metadata": {},
   "outputs": [],
   "source": [
    "#train_test_split is a function in Sklearn model selection for splitting data arrays into two subsets: for \n",
    "\n",
    "from sklearn.model_selection import train_test_split\n",
    "x_train,x_test,y_train,y_test=train_test_split(x,y)\n",
    "#splitting the data into train and split by ratio of 75% train and 25% test (default)"
   ]
  },
  {
   "cell_type": "code",
   "execution_count": 28,
   "metadata": {},
   "outputs": [
    {
     "ename": "ModuleNotFoundError",
     "evalue": "No module named 'tpot'",
     "output_type": "error",
     "traceback": [
      "\u001b[0;31m---------------------------------------------------------------------------\u001b[0m",
      "\u001b[0;31mModuleNotFoundError\u001b[0m                       Traceback (most recent call last)",
      "\u001b[0;32m<ipython-input-28-36f7fb241641>\u001b[0m in \u001b[0;36m<module>\u001b[0;34m\u001b[0m\n\u001b[0;32m----> 1\u001b[0;31m \u001b[0;32mfrom\u001b[0m \u001b[0mtpot\u001b[0m \u001b[0;32mimport\u001b[0m \u001b[0mTPOTRegressor\u001b[0m\u001b[0;34m\u001b[0m\u001b[0;34m\u001b[0m\u001b[0m\n\u001b[0m\u001b[1;32m      2\u001b[0m \u001b[0;32mfrom\u001b[0m \u001b[0msklearn\u001b[0m\u001b[0;34m.\u001b[0m\u001b[0mmetrics\u001b[0m \u001b[0;32mimport\u001b[0m \u001b[0mroc_auc_score\u001b[0m\u001b[0;34m\u001b[0m\u001b[0;34m\u001b[0m\u001b[0m\n",
      "\u001b[0;31mModuleNotFoundError\u001b[0m: No module named 'tpot'"
     ]
    }
   ],
   "source": [
    "from tpot import TPOTRegressor\n",
    "from sklearn.metrics import roc_auc_score "
   ]
  },
  {
   "cell_type": "code",
   "execution_count": 27,
   "metadata": {},
   "outputs": [
    {
     "ename": "NameError",
     "evalue": "name 'TPOTRegressor' is not defined",
     "output_type": "error",
     "traceback": [
      "\u001b[0;31m---------------------------------------------------------------------------\u001b[0m",
      "\u001b[0;31mNameError\u001b[0m                                 Traceback (most recent call last)",
      "\u001b[0;32m<ipython-input-27-cabe5de45b92>\u001b[0m in \u001b[0;36m<module>\u001b[0;34m\u001b[0m\n\u001b[0;32m----> 1\u001b[0;31m tpot = TPOTRegressor(\n\u001b[0m\u001b[1;32m      2\u001b[0m     \u001b[0mgenerations\u001b[0m\u001b[0;34m=\u001b[0m\u001b[0;36m5\u001b[0m\u001b[0;34m,\u001b[0m\u001b[0;34m\u001b[0m\u001b[0;34m\u001b[0m\u001b[0m\n\u001b[1;32m      3\u001b[0m     \u001b[0mpopulation_size\u001b[0m\u001b[0;34m=\u001b[0m\u001b[0;36m50\u001b[0m\u001b[0;34m,\u001b[0m\u001b[0;34m\u001b[0m\u001b[0;34m\u001b[0m\u001b[0m\n\u001b[1;32m      4\u001b[0m     \u001b[0mverbosity\u001b[0m\u001b[0;34m=\u001b[0m\u001b[0;36m2\u001b[0m\u001b[0;34m,\u001b[0m\u001b[0;34m\u001b[0m\u001b[0;34m\u001b[0m\u001b[0m\n\u001b[1;32m      5\u001b[0m )\n",
      "\u001b[0;31mNameError\u001b[0m: name 'TPOTRegressor' is not defined"
     ]
    }
   ],
   "source": [
    "tpot = TPOTRegressor(\n",
    "    generations=5,\n",
    "    population_size=50,\n",
    "    verbosity=2,\n",
    ")\n",
    "tpot.fit(x_train, y_train)"
   ]
  },
  {
   "cell_type": "code",
   "execution_count": null,
   "metadata": {},
   "outputs": [],
   "source": []
  },
  {
   "cell_type": "code",
   "execution_count": 39,
   "metadata": {},
   "outputs": [
    {
     "ename": "NameError",
     "evalue": "name 'tpot' is not defined",
     "output_type": "error",
     "traceback": [
      "\u001b[0;31m---------------------------------------------------------------------------\u001b[0m",
      "\u001b[0;31mNameError\u001b[0m                                 Traceback (most recent call last)",
      "\u001b[0;32m<ipython-input-39-06990420713a>\u001b[0m in \u001b[0;36m<module>\u001b[0;34m\u001b[0m\n\u001b[0;32m----> 1\u001b[0;31m \u001b[0mtpot_pred\u001b[0m \u001b[0;34m=\u001b[0m \u001b[0mtpot\u001b[0m\u001b[0;34m.\u001b[0m\u001b[0mpredict\u001b[0m\u001b[0;34m(\u001b[0m\u001b[0mx_test\u001b[0m\u001b[0;34m)\u001b[0m\u001b[0;34m\u001b[0m\u001b[0;34m\u001b[0m\u001b[0m\n\u001b[0m\u001b[1;32m      2\u001b[0m \u001b[0mtpot_pred\u001b[0m\u001b[0;34m\u001b[0m\u001b[0;34m\u001b[0m\u001b[0m\n",
      "\u001b[0;31mNameError\u001b[0m: name 'tpot' is not defined"
     ]
    }
   ],
   "source": [
    "tpot_pred = tpot.predict(x_test)\n",
    "tpot_pred"
   ]
  },
  {
   "cell_type": "code",
   "execution_count": null,
   "metadata": {},
   "outputs": [],
   "source": []
  },
  {
   "cell_type": "code",
   "execution_count": 40,
   "metadata": {},
   "outputs": [],
   "source": [
    "from sklearn.ensemble import AdaBoostRegressor #import adaboostregressor from sklearn.ensemble class"
   ]
  },
  {
   "cell_type": "code",
   "execution_count": 41,
   "metadata": {},
   "outputs": [
    {
     "data": {
      "text/plain": [
       "AdaBoostRegressor(base_estimator=None, learning_rate=1.0, loss='linear',\n",
       "                  n_estimators=100, random_state=0)"
      ]
     },
     "execution_count": 41,
     "metadata": {},
     "output_type": "execute_result"
    }
   ],
   "source": [
    "regr = AdaBoostRegressor(random_state=0, n_estimators=100) #creating an instance of AdaBoostRegressor as regr\n",
    "regr.fit(x_train, y_train)  #fitting the AdaBoostRegressor on our training data"
   ]
  },
  {
   "cell_type": "code",
   "execution_count": 42,
   "metadata": {},
   "outputs": [],
   "source": [
    "y_pred=regr.predict(x_test) # making predictions on our test data using AdaBoostRegressor predict method and saving them in y_pred"
   ]
  },
  {
   "cell_type": "code",
   "execution_count": 43,
   "metadata": {},
   "outputs": [],
   "source": [
    "from sklearn.metrics import mean_squared_error  #retrieving the training(x_train,y_train) accuracy score of the AdaBoostRegressor "
   ]
  },
  {
   "cell_type": "code",
   "execution_count": 44,
   "metadata": {},
   "outputs": [
    {
     "data": {
      "text/plain": [
       "1.3473814496133376"
      ]
     },
     "execution_count": 44,
     "metadata": {},
     "output_type": "execute_result"
    }
   ],
   "source": [
    "mean_squared_error(y_pred,y_test) #retrieving the testing(x_test,y_test) accuracy score of the AdaBoostRegressor "
   ]
  },
  {
   "cell_type": "code",
   "execution_count": null,
   "metadata": {},
   "outputs": [],
   "source": []
  },
  {
   "cell_type": "code",
   "execution_count": null,
   "metadata": {},
   "outputs": [],
   "source": []
  },
  {
   "cell_type": "code",
   "execution_count": 45,
   "metadata": {},
   "outputs": [],
   "source": [
    "from sklearn.ensemble import RandomForestRegressor #import Random forest regressor from sklearn.ensemble class"
   ]
  },
  {
   "cell_type": "code",
   "execution_count": 46,
   "metadata": {},
   "outputs": [],
   "source": [
    "regr1 = RandomForestRegressor(random_state=0, n_estimators=100) \n",
    "regr1.fit(x_train, y_train) \n",
    "y_pred1=regr1.predict(x_test)"
   ]
  },
  {
   "cell_type": "code",
   "execution_count": 47,
   "metadata": {},
   "outputs": [
    {
     "data": {
      "text/plain": [
       "0.7294742796836085"
      ]
     },
     "execution_count": 47,
     "metadata": {},
     "output_type": "execute_result"
    }
   ],
   "source": [
    "mean_squared_error(y_pred1,y_test)"
   ]
  },
  {
   "cell_type": "code",
   "execution_count": null,
   "metadata": {},
   "outputs": [],
   "source": []
  },
  {
   "cell_type": "code",
   "execution_count": null,
   "metadata": {},
   "outputs": [],
   "source": []
  },
  {
   "cell_type": "code",
   "execution_count": null,
   "metadata": {},
   "outputs": [],
   "source": []
  },
  {
   "cell_type": "code",
   "execution_count": null,
   "metadata": {},
   "outputs": [],
   "source": []
  },
  {
   "cell_type": "markdown",
   "metadata": {},
   "source": [
    "# CONCLUSION \n",
    "\n",
    "Prediction of Year over year growth rate is a regression problem so to make predictions we have used powerful regression algorithm like AdaBoost regressor and some new machine learning algorithm (AUTOML) like TPOT regressor."
   ]
  },
  {
   "cell_type": "code",
   "execution_count": null,
   "metadata": {},
   "outputs": [],
   "source": []
  }
 ],
 "metadata": {
  "kernelspec": {
   "display_name": "Python 3",
   "language": "python",
   "name": "python3"
  },
  "language_info": {
   "codemirror_mode": {
    "name": "ipython",
    "version": 3
   },
   "file_extension": ".py",
   "mimetype": "text/x-python",
   "name": "python",
   "nbconvert_exporter": "python",
   "pygments_lexer": "ipython3",
   "version": "3.6.8"
  }
 },
 "nbformat": 4,
 "nbformat_minor": 2
}
